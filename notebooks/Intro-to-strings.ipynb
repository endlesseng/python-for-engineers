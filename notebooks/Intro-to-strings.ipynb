{
 "cells": [
  {
   "cell_type": "markdown",
   "metadata": {},
   "source": [
    "<img src=\"images/logo.png\" width=\"140\" align=\"left\">\n",
    "\n",
    "<center> <h1>Python for Engineers</h1> </center>\n",
    "<center> <h2>Introduction to Python Strings</h2> </center>\n"
   ]
  },
  {
   "cell_type": "markdown",
   "metadata": {},
   "source": [
    "### Before you begin\n",
    "* The concepts presented here are related to concepts from the [Intro to Python Lists](https://youtu.be/qD1MmgPQFSs), [Intro to Tuples](https://youtu.be/Y7jSuVb4fVs), and [intro to dictionaries](https://youtu.be/BPKqtKat1Lc) videos on YouTube. Make sure you watch them or go through the jupyter notebooks on [Github](https://github.com/endlesseng/python-for-engineers/tree/master/notebooks). "
   ]
  },
  {
   "cell_type": "markdown",
   "metadata": {},
   "source": [
    "## What is covered?\n",
    "1. Python string definition\n",
    "2. Why do Engineers need to learn about python strings? \n",
    "3. Examining and modifying a string variable\n",
    "4. Useful string operations and functionality"
   ]
  },
  {
   "cell_type": "markdown",
   "metadata": {},
   "source": [
    "<img src=\"images/cat_string_meme.jpg\" width=\"165\" align=\"right\">\n",
    "\n",
    "## Python [string](https://docs.python.org/3.8/tutorial/introduction.html#strings) definition\n",
    "Strings in Python are arrays of [bytes](https://en.wikipedia.org/wiki/Byte) representing [unicode](https://en.wikipedia.org/wiki/Unicode) characters. Python does not have a character data type, a single character is a string with a length of 1. In Python strings can be enclosed in single quotes `'...'` or double quotes `\"...\"`"
   ]
  },
  {
   "cell_type": "code",
   "execution_count": 1,
   "metadata": {},
   "outputs": [
    {
     "name": "stdout",
     "output_type": "stream",
     "text": [
      "this is a string in double quotes!\n"
     ]
    }
   ],
   "source": [
    "# double quotes\n",
    "print(\"this is a string in double quotes!\")"
   ]
  },
  {
   "cell_type": "code",
   "execution_count": 2,
   "metadata": {},
   "outputs": [
    {
     "name": "stdout",
     "output_type": "stream",
     "text": [
      "This is a string in single quotes\n"
     ]
    }
   ],
   "source": [
    "# single quotes\n",
    "print('This is a string in single quotes')"
   ]
  },
  {
   "cell_type": "markdown",
   "metadata": {},
   "source": [
    "The back slash (`\\`) can be used to escape quotes, for example:"
   ]
  },
  {
   "cell_type": "code",
   "execution_count": 3,
   "metadata": {},
   "outputs": [
    {
     "name": "stdout",
     "output_type": "stream",
     "text": [
      "This is a string with single quotes. The quote in the word isn't needs to be escaped\n"
     ]
    }
   ],
   "source": [
    "print('This is a string with single quotes. The quote in the word isn\\'t needs to be escaped')"
   ]
  },
  {
   "cell_type": "code",
   "execution_count": 4,
   "metadata": {},
   "outputs": [
    {
     "name": "stdout",
     "output_type": "stream",
     "text": [
      "this isn't does not required escaping\n"
     ]
    }
   ],
   "source": [
    "print(\"this isn't does not required escaping\")"
   ]
  },
  {
   "cell_type": "markdown",
   "metadata": {},
   "source": [
    "Strings can also span multiple lines either using the newline specical character `\\n` or tripple double quotes `\"\"\"....\"\"\"`"
   ]
  },
  {
   "cell_type": "code",
   "execution_count": 5,
   "metadata": {},
   "outputs": [
    {
     "name": "stdout",
     "output_type": "stream",
     "text": [
      "this is a multi-line string...\n",
      "...it is continued here\n"
     ]
    }
   ],
   "source": [
    "# using \\n\n",
    "print(\"this is a multi-line string...\\n...it is continued here\")"
   ]
  },
  {
   "cell_type": "code",
   "execution_count": 6,
   "metadata": {},
   "outputs": [
    {
     "name": "stdout",
     "output_type": "stream",
     "text": [
      "This is a multi-line string\n",
      "... it is continued here\n"
     ]
    }
   ],
   "source": [
    "# using \"\"\"...\"\"\"\n",
    "print(\"\"\"This is a multi-line string\n",
    "... it is continued here\"\"\")"
   ]
  },
  {
   "cell_type": "markdown",
   "metadata": {},
   "source": [
    "Strings can also be assigned to variables, not just used as string [literals](https://en.wikipedia.org/wiki/Literal_(computer_programming))."
   ]
  },
  {
   "cell_type": "code",
   "execution_count": 7,
   "metadata": {},
   "outputs": [
    {
     "name": "stdout",
     "output_type": "stream",
     "text": [
      "this is going into a variable\n"
     ]
    }
   ],
   "source": [
    "my_string = \"this is going into a variable\"\n",
    "\n",
    "print(my_string)"
   ]
  },
  {
   "cell_type": "markdown",
   "metadata": {},
   "source": [
    "## Why do Engineers need to learn about python strings?"
   ]
  },
  {
   "cell_type": "markdown",
   "metadata": {},
   "source": [
    "While `ints` and `floats` dominate most engineering applications, `strings` play a vital role as well. Some of the applications of strings:\n",
    "1. Desplaying data on a screen (measurement, warning etc...) \n",
    "2. Filenames \n",
    "3. Reading data from files. For example GPS satellites navigation data ([Almanacs](https://www.navcen.uscg.gov/?pageName=gpsAlmanacs)) from satellites can be acquired is string format. "
   ]
  },
  {
   "cell_type": "markdown",
   "metadata": {},
   "source": [
    "## Examining and modifying a string variable\n"
   ]
  },
  {
   "cell_type": "markdown",
   "metadata": {},
   "source": [
    "Since strings are arrays of characters, each character can be accessed through indexing (starting from zero)."
   ]
  },
  {
   "cell_type": "code",
   "execution_count": 8,
   "metadata": {},
   "outputs": [],
   "source": [
    "python_string = \"This is Python for Engineers\""
   ]
  },
  {
   "cell_type": "code",
   "execution_count": 9,
   "metadata": {},
   "outputs": [
    {
     "name": "stdout",
     "output_type": "stream",
     "text": [
      "the first character is:  T\n",
      "the tenth character is:  t\n",
      "the last character is:  s\n",
      "the last character is:  s\n",
      "the second to last character is:  r\n",
      "the first character is:  T\n"
     ]
    }
   ],
   "source": [
    "# accessing string characters\n",
    "\n",
    "print(\"the first character is: \", python_string[0])\n",
    "print(\"the tenth character is: \", python_string[10])\n",
    "print(\"the last character is: \", python_string[-1])\n",
    "print(\"the last character is: \", python_string[27])\n",
    "print(\"the second to last character is: \", python_string[-2])\n",
    "print(\"the first character is: \", python_string[-28])"
   ]
  },
  {
   "cell_type": "markdown",
   "metadata": {},
   "source": [
    "Slicing can also be applied to strings:"
   ]
  },
  {
   "cell_type": "code",
   "execution_count": 10,
   "metadata": {},
   "outputs": [
    {
     "name": "stdout",
     "output_type": "stream",
     "text": [
      "the substring between 5 and 15:  is Python \n",
      "The first 13 characters:  This is Pytho\n",
      "The last 14 characters:   for Engineers\n"
     ]
    }
   ],
   "source": [
    "# using slicing \n",
    "\n",
    "print(\"the substring between 5 and 15: \", python_string[5:15])\n",
    "print(\"The first 13 characters: \", python_string[0:13])\n",
    "print(\"The last 14 characters: \", python_string[-14:])"
   ]
  },
  {
   "cell_type": "markdown",
   "metadata": {},
   "source": [
    "Strings in python are __immutable__, which means that you cannot change them after they have already been created. But you can create new strings from exisiting ones. "
   ]
  },
  {
   "cell_type": "code",
   "execution_count": 11,
   "metadata": {},
   "outputs": [
    {
     "name": "stdout",
     "output_type": "stream",
     "text": [
      "You can't change me\n",
      "You can't change me. But you can create a new string using me!\n"
     ]
    }
   ],
   "source": [
    "string_to_change = \"You can't change me\"\n",
    "print(string_to_change)\n",
    "\n",
    "string_to_change += \". But you can create a new string using me!\"\n",
    "print(string_to_change)"
   ]
  },
  {
   "cell_type": "markdown",
   "metadata": {},
   "source": [
    "## Useful string operations and functionality\n"
   ]
  },
  {
   "cell_type": "code",
   "execution_count": 12,
   "metadata": {},
   "outputs": [],
   "source": [
    "py_string = \"    Welcome To PYHTON for EnGiNEerS! I hope you ARE enJoying it  \""
   ]
  },
  {
   "cell_type": "code",
   "execution_count": 13,
   "metadata": {},
   "outputs": [
    {
     "name": "stdout",
     "output_type": "stream",
     "text": [
      "65\n"
     ]
    }
   ],
   "source": [
    "# String length\n",
    "\n",
    "print(len(py_string))"
   ]
  },
  {
   "cell_type": "code",
   "execution_count": 14,
   "metadata": {},
   "outputs": [
    {
     "name": "stdout",
     "output_type": "stream",
     "text": [
      "    Welcome To PYHTON for EnGiNEerS! I hope you ARE enJoying it  . Because I sure am!\n"
     ]
    }
   ],
   "source": [
    "# add two strings, concatenation\n",
    "\n",
    "print(py_string + \". Because I sure am!\")"
   ]
  },
  {
   "cell_type": "code",
   "execution_count": 15,
   "metadata": {},
   "outputs": [
    {
     "name": "stdout",
     "output_type": "stream",
     "text": [
      "Before:\n",
      "     Welcome To PYHTON for EnGiNEerS! I hope you ARE enJoying it  \n",
      "After:\n",
      " Welcome To PYHTON for EnGiNEerS! I hope you ARE enJoying it\n"
     ]
    }
   ],
   "source": [
    "# strip all the blank space before and after\n",
    "\n",
    "print(\"Before:\\n\", py_string)\n",
    "\n",
    "print(\"After:\\n\", py_string.strip())"
   ]
  },
  {
   "cell_type": "code",
   "execution_count": 16,
   "metadata": {},
   "outputs": [
    {
     "name": "stdout",
     "output_type": "stream",
     "text": [
      "    WELCOME TO PYHTON FOR ENGINEERS! I HOPE YOU ARE ENJOYING IT  \n",
      "    welcome to pyhton for engineers! i hope you are enjoying it  \n"
     ]
    }
   ],
   "source": [
    "# all upper case or lower case\n",
    "\n",
    "print(py_string.upper())\n",
    "print(py_string.lower())"
   ]
  },
  {
   "cell_type": "code",
   "execution_count": 17,
   "metadata": {},
   "outputs": [
    {
     "name": "stdout",
     "output_type": "stream",
     "text": [
      "split each word:  ['Welcome', 'To', 'PYHTON', 'for', 'EnGiNEerS!', 'I', 'hope', 'you', 'ARE', 'enJoying', 'it']\n",
      "split at the '!':  ['    Welcome To PYHTON for EnGiNEerS', ' I hope you ARE enJoying it  ']\n",
      "split at the 'i':  ['    Welcome To PYHTON for EnG', 'NEerS! I hope you ARE enJoy', 'ng ', 't  ']\n"
     ]
    }
   ],
   "source": [
    "# splitting a string\n",
    "\n",
    "print(\"split each word: \", py_string.split())\n",
    "print(\"split at the '!': \", py_string.split(\"!\"))\n",
    "print(\"split at the 'i': \", py_string.split('i'))"
   ]
  },
  {
   "cell_type": "code",
   "execution_count": null,
   "metadata": {},
   "outputs": [],
   "source": []
  }
 ],
 "metadata": {
  "kernelspec": {
   "display_name": "Python 3",
   "language": "python",
   "name": "python3"
  },
  "language_info": {
   "codemirror_mode": {
    "name": "ipython",
    "version": 3
   },
   "file_extension": ".py",
   "mimetype": "text/x-python",
   "name": "python",
   "nbconvert_exporter": "python",
   "pygments_lexer": "ipython3",
   "version": "3.7.4"
  }
 },
 "nbformat": 4,
 "nbformat_minor": 2
}
