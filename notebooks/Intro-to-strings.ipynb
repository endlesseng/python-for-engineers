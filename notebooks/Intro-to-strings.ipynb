{
 "cells": [
  {
   "cell_type": "markdown",
   "metadata": {},
   "source": [
    "<img src=\"images/logo.png\" width=\"140\" align=\"left\">\n",
    "\n",
    "<center> <h1>Python for Engineers</h1> </center>\n",
    "<center> <h2>Introduction to Python Strings</h2> </center>\n"
   ]
  },
  {
   "cell_type": "markdown",
   "metadata": {},
   "source": [
    "### Before you begin\n",
    "* The concepts presented here are related to concepts from the [Intro to Python Lists](https://youtu.be/qD1MmgPQFSs), [Intro to Tuples](https://youtu.be/Y7jSuVb4fVs), and [intro to dictionaries](https://youtu.be/BPKqtKat1Lc) videos on YouTube. Make sure you watch them or go through the jupyter notebooks on [Github](https://github.com/endlesseng/python-for-engineers/tree/master/notebooks). "
   ]
  },
  {
   "cell_type": "markdown",
   "metadata": {},
   "source": [
    "## What is covered?\n",
    "1. What is a string in Python?\n",
    "2. Why do Engineers need to learn about python strings? \n",
    "3. Examining and modifying a string variable\n",
    "4. Useful string operations and functionality"
   ]
  },
  {
   "cell_type": "markdown",
   "metadata": {},
   "source": [
    "## What is a [string](https://docs.python.org/3.8/tutorial/introduction.html#strings) in Python?\n",
    "Strings in Python are arrays of [bytes](https://en.wikipedia.org/wiki/Byte) representing [unicode](https://en.wikipedia.org/wiki/Unicode) characters. Python does not have a character data type, a single character is a string with a length of 1. In Python strings can be enclosed in single quotes `'...'` or double quotes `\"...\"`"
   ]
  },
  {
   "cell_type": "code",
   "execution_count": null,
   "metadata": {},
   "outputs": [],
   "source": [
    "# single quotes"
   ]
  },
  {
   "cell_type": "code",
   "execution_count": null,
   "metadata": {},
   "outputs": [],
   "source": [
    "# double quotes"
   ]
  },
  {
   "cell_type": "markdown",
   "metadata": {},
   "source": [
    "The forwardslash (`\\`) can be used to escape quotes, for example:"
   ]
  },
  {
   "cell_type": "code",
   "execution_count": null,
   "metadata": {},
   "outputs": [],
   "source": []
  },
  {
   "cell_type": "markdown",
   "metadata": {},
   "source": [
    "Strings can also span multiple lines either using the newline specical character `\\n` or tripple double quotes `\"\"\"....\"\"\"`"
   ]
  },
  {
   "cell_type": "code",
   "execution_count": null,
   "metadata": {},
   "outputs": [],
   "source": [
    "# using \\n"
   ]
  },
  {
   "cell_type": "code",
   "execution_count": null,
   "metadata": {},
   "outputs": [],
   "source": [
    "# using \"\"\"...\"\"\""
   ]
  },
  {
   "cell_type": "markdown",
   "metadata": {},
   "source": [
    "Strings can also be assigned to variables, not just used as string [literals](https://en.wikipedia.org/wiki/Literal_(computer_programming))."
   ]
  },
  {
   "cell_type": "code",
   "execution_count": null,
   "metadata": {},
   "outputs": [],
   "source": [
    "my_string =\n",
    "\n",
    "print(my_string)"
   ]
  },
  {
   "cell_type": "markdown",
   "metadata": {},
   "source": [
    "## Why do Engineers need to learn about python strings?"
   ]
  },
  {
   "cell_type": "markdown",
   "metadata": {},
   "source": [
    "While `ints` and `floats` dominate most engineering applications, `strings` play a vital role as well. Some of the applications of strings:\n",
    "1. Desplaying data on a screen (measurement, warning etc...) \n",
    "2. Filenames \n",
    "3. Reading data from files. For example GPS satellites navigation data ([Almanacs](https://www.navcen.uscg.gov/?pageName=gpsAlmanacs)) from satellites can be acquired is string format. "
   ]
  },
  {
   "cell_type": "markdown",
   "metadata": {},
   "source": [
    "## Examining and modifying a string variable\n"
   ]
  },
  {
   "cell_type": "markdown",
   "metadata": {},
   "source": [
    "Since strings are arrays of characters, each character can be accessed through indexing (starting from zero)."
   ]
  },
  {
   "cell_type": "code",
   "execution_count": null,
   "metadata": {},
   "outputs": [],
   "source": [
    "python_string = \"This is Python for Engineers\""
   ]
  },
  {
   "cell_type": "code",
   "execution_count": null,
   "metadata": {},
   "outputs": [],
   "source": [
    "# accessing string characters\n",
    "\n",
    "print(\"the first character is: \", )\n",
    "print(\"the tenth character is: \", )\n",
    "print(\"the last character is: \", )\n",
    "print(\"the last character is: \", )\n",
    "print(\"the second to last character is: \", )\n",
    "print(\"the first character is: \", )"
   ]
  },
  {
   "cell_type": "markdown",
   "metadata": {},
   "source": [
    "Slicing can also be applied to strings:"
   ]
  },
  {
   "cell_type": "code",
   "execution_count": null,
   "metadata": {},
   "outputs": [],
   "source": [
    "# using slicing \n",
    "\n",
    "print(\"the substring between 5 and 15: \", )\n",
    "print(\"The first 13 characters: \", )\n",
    "print(\"The last 14 characters: \", )"
   ]
  },
  {
   "cell_type": "markdown",
   "metadata": {},
   "source": [
    "Strings in python are __immutable__, which means that you cannot change them after they have already been created. But you can create new strings from exisiting ones. "
   ]
  },
  {
   "cell_type": "code",
   "execution_count": null,
   "metadata": {},
   "outputs": [],
   "source": [
    "string_to_change = \"You can't change me\"\n",
    "print(string_to_change)\n",
    "\n",
    "string_to_change += \". But you can create a new string using me!\"\n",
    "print(string_to_change)"
   ]
  },
  {
   "cell_type": "markdown",
   "metadata": {},
   "source": [
    "## Useful string operations and functionality\n"
   ]
  },
  {
   "cell_type": "code",
   "execution_count": null,
   "metadata": {},
   "outputs": [],
   "source": [
    "py_string = \"    Welcome To PYHTON for EnGiNEerS! I hope you ARE enJoying it  \""
   ]
  },
  {
   "cell_type": "code",
   "execution_count": null,
   "metadata": {},
   "outputs": [],
   "source": [
    "# String length\n",
    "\n",
    "print()"
   ]
  },
  {
   "cell_type": "code",
   "execution_count": null,
   "metadata": {},
   "outputs": [],
   "source": [
    "# add two strings, concatenation\n",
    "\n",
    "print()"
   ]
  },
  {
   "cell_type": "code",
   "execution_count": null,
   "metadata": {},
   "outputs": [],
   "source": [
    "# strip all the blank space before and aftrer\n",
    "\n",
    "print(\"Before:\\n\", py_string)\n",
    "\n",
    "print(\"After:\\n\", )"
   ]
  },
  {
   "cell_type": "code",
   "execution_count": null,
   "metadata": {},
   "outputs": [],
   "source": [
    "# all upper case or lower case\n",
    "\n",
    "print()\n",
    "print()"
   ]
  },
  {
   "cell_type": "code",
   "execution_count": null,
   "metadata": {},
   "outputs": [],
   "source": [
    "# splitting a string\n",
    "\n",
    "print(\"split each word: \", )\n",
    "print(\"split at the '!': \", )\n",
    "print(\"split at the 'i': \", )"
   ]
  }
 ],
 "metadata": {
  "kernelspec": {
   "display_name": "Python 3",
   "language": "python",
   "name": "python3"
  },
  "language_info": {
   "codemirror_mode": {
    "name": "ipython",
    "version": 3
   },
   "file_extension": ".py",
   "mimetype": "text/x-python",
   "name": "python",
   "nbconvert_exporter": "python",
   "pygments_lexer": "ipython3",
   "version": "3.7.4"
  }
 },
 "nbformat": 4,
 "nbformat_minor": 2
}
