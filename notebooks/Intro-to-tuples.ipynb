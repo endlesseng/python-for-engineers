{
 "cells": [
  {
   "cell_type": "markdown",
   "metadata": {},
   "source": [
    "<img src=\"images/logo.png\" width=\"140\" align=\"left\">\n",
    "\n",
    "<center> <h1>Python for Engineers</h1> </center>\n",
    "<center> <h2>Introduction to the Tuple object</h2> </center>\n"
   ]
  },
  {
   "cell_type": "markdown",
   "metadata": {},
   "source": [
    "### Before you begin\n",
    "* If you are not familiar with Python variables and operators checkout my video on [YouTube](https://youtu.be/PHQmhXCxv78) and the accompanying jupyter notebook on [Github](https://github.com/endlesseng/python-for-engineers/blob/master/notebooks/Intro-to-Variables-and-Operators.ipynb)\n",
    "* The concepts presented here are related to concepts for a python List, checkout my [Intro to Python Lists](https://youtu.be/qD1MmgPQFSs) video on YouTube, and find the accompanying jupyter notebook on [Github](https://github.com/endlesseng/python-for-engineers/blob/master/notebooks/Intro-to-Lists.ipynb)"
   ]
  },
  {
   "cell_type": "markdown",
   "metadata": {},
   "source": [
    "## What is covered?\n",
    "1. What is a tuple in Python?\n",
    "2. Creating a tuple\n",
    "3. Accessing tuple items\n",
    "4. Can we modify a tuple?\n",
    "5. Useful tuple operations"
   ]
  },
  {
   "cell_type": "markdown",
   "metadata": {},
   "source": [
    "## [What is a tuple in Python](https://docs.python.org/3.8/tutorial/datastructures.html#tuples-and-sequences)\n",
    "In Python a __tuple__ is an immutable sequence or ordered collection of elements (items). So the order in which elements appear in the tuple is conserved. Tuples are typically defined using parentheses __`( )`__. "
   ]
  },
  {
   "cell_type": "markdown",
   "metadata": {},
   "source": [
    "## Creating tuples\n"
   ]
  },
  {
   "cell_type": "code",
   "execution_count": null,
   "metadata": {
    "scrolled": true
   },
   "outputs": [],
   "source": [
    "# this is a tuple with 4 items\n",
    "my_first_tuple = (\"cat\", \"1.2\", 1.2, \"dog\")\n",
    "\n",
    "print(\"my first tuple: \", my_first_tuple)"
   ]
  },
  {
   "cell_type": "code",
   "execution_count": null,
   "metadata": {},
   "outputs": [],
   "source": [
    "# this is an empty tuple\n",
    "empty_tuple = () \n",
    "\n",
    "print(\"an empty tuple: \" , empty_tuple)"
   ]
  },
  {
   "cell_type": "code",
   "execution_count": null,
   "metadata": {},
   "outputs": [],
   "source": [
    "# tuple of one element\n",
    "one_element_tuple = (0.1, ) \n",
    "\n",
    "print(\"tuple with one element: \" , one_element_tuple)"
   ]
  },
  {
   "cell_type": "code",
   "execution_count": null,
   "metadata": {},
   "outputs": [],
   "source": [
    "type(one_element_tuple)"
   ]
  },
  {
   "cell_type": "code",
   "execution_count": null,
   "metadata": {},
   "outputs": [],
   "source": [
    "# creating a tuple without parentheses\n",
    "tuple_no_paren = 3, 54, 1 \n",
    "\n",
    "print(\"tuple created without using parentheses: \", tuple_no_paren)"
   ]
  },
  {
   "cell_type": "code",
   "execution_count": null,
   "metadata": {},
   "outputs": [],
   "source": [
    "type(tuple_no_paren)"
   ]
  },
  {
   "cell_type": "markdown",
   "metadata": {},
   "source": [
    "<img src=\"images/basis_vec.png\" width=\"300\" align=\"right\">\n",
    "\n",
    "__Example__ Cartesian coordinate system basis vecotrs. \n",
    "<br/><br/>\n",
    "  \n",
    "\n",
    "\\begin{equation}\n",
    "   i = [1, 0, 0]\n",
    "\\end{equation}\n",
    "\n",
    "\\begin{equation}\n",
    "   j = [0, 1, 0]\n",
    "\\end{equation}\n",
    "\n",
    "\\begin{equation}\n",
    "   k= [0, 0, 1]\n",
    "\\end{equation}\n",
    "<br/><br/>\n",
    "\n",
    "\\begin{equation}\n",
    "   a = a_x i + a_y j + a_z k\n",
    "\\end{equation}"
   ]
  },
  {
   "cell_type": "code",
   "execution_count": null,
   "metadata": {},
   "outputs": [],
   "source": [
    "# Cartesian basis\n",
    "i = (1, 0, 0) \n",
    "j = (0, 1, 0)\n",
    "k = (0, 0, 1)\n",
    "\n",
    "print(\"The basis of a Cartesian coordinate system are: \", \"\\ni: \", i, \"\\nj: \", j, \"\\nk: \", k)"
   ]
  },
  {
   "cell_type": "code",
   "execution_count": null,
   "metadata": {},
   "outputs": [],
   "source": [
    "# tuples can contain other tuples and objects\n",
    "tuple_of_obj = ([1, 2, 3], (3, 5, 6), False, ([2, 3], [4, 5])) \n",
    "\n",
    "print(\"tuple of objects: \" , tuple_of_obj)"
   ]
  },
  {
   "cell_type": "markdown",
   "metadata": {},
   "source": [
    "### Accessing tuple items\n",
    "Items in a tuple can be accessed by indexing or slicing."
   ]
  },
  {
   "cell_type": "code",
   "execution_count": null,
   "metadata": {},
   "outputs": [],
   "source": [
    "# first element\n",
    "first_elem = tuple_of_obj[0]\n",
    "\n",
    "print(\"the first element of the object tuple is: \", first_elem)"
   ]
  },
  {
   "cell_type": "code",
   "execution_count": null,
   "metadata": {},
   "outputs": [],
   "source": [
    "# last element\n",
    "last_elem = tuple_of_obj[-1]\n",
    "\n",
    "print(\"the last element of the object tuple is: \", last_elem)"
   ]
  },
  {
   "cell_type": "code",
   "execution_count": null,
   "metadata": {},
   "outputs": [],
   "source": [
    "# slicing\n",
    "tuple_to_slice = ('apple', 'banana', 'grape', 'hello', 'python')\n",
    "\n",
    "first_3_elements = tuple_to_slice[0:3] \n",
    "last_2_elements =  tuple_to_slice[-2:]\n",
    "elemets_1_to_3 =  tuple_to_slice[1:4]\n",
    "\n",
    "print(\"the first three elemets: \", first_3_elements)\n",
    "print(\"the last two elemets: \", last_2_elements)\n",
    "print(\"elements 1 to 3: \", elemets_1_to_3)"
   ]
  },
  {
   "cell_type": "markdown",
   "metadata": {},
   "source": [
    "### Can we modify a tuple?\n",
    "No. A tuple is an immutable object, which means it cannot be modified once instantiated."
   ]
  },
  {
   "cell_type": "code",
   "execution_count": null,
   "metadata": {},
   "outputs": [],
   "source": [
    "# modifying a tuple\n",
    "immutable_tuple = (1, 2, 3, 4, 5, 6)\n",
    "\n",
    "# the following is not allowed\n",
    "# immutable_tuple[1] = 0\n",
    "# immutable_tuple[-2] = \"hello\"\n"
   ]
  },
  {
   "cell_type": "markdown",
   "metadata": {},
   "source": [
    "### Useful operations on tuples\n"
   ]
  },
  {
   "cell_type": "code",
   "execution_count": null,
   "metadata": {},
   "outputs": [],
   "source": [
    "tup_1 = (1, 2, 4) \n",
    "tup_2 = (7, 8, 15, 6)\n",
    "\n",
    "print(\"tup_1: \", tup_1)\n",
    "print(\"tup_2: \", tup_2)\n",
    "print(\"\\nOperations on tuples: \")\n",
    "print(\"-------------------------\")\n",
    "print(\"tup1 + tup2 = \", tup_1 + tup_2)\n",
    "print(\"tup_1 * 3 = \", tup_1 * 3)\n",
    "print(\"7 in tup_2: \", 7 in tup_2)\n",
    "print(\"7 in tup_1: \", 7 in tup_1)"
   ]
  }
 ],
 "metadata": {
  "kernelspec": {
   "display_name": "Python 3",
   "language": "python",
   "name": "python3"
  },
  "language_info": {
   "codemirror_mode": {
    "name": "ipython",
    "version": 3
   },
   "file_extension": ".py",
   "mimetype": "text/x-python",
   "name": "python",
   "nbconvert_exporter": "python",
   "pygments_lexer": "ipython3",
   "version": "3.7.4"
  }
 },
 "nbformat": 4,
 "nbformat_minor": 2
}
