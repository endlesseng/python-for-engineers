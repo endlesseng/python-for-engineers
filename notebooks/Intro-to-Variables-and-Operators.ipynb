{
 "cells": [
  {
   "cell_type": "markdown",
   "metadata": {},
   "source": [
    "<img src=\"logo.png\" width=\"150\" align=\"right\">\n",
    "  \n",
    "  \n",
    " # Python for Engineers\n",
    " # Introduction to Python Variables and Operators:<br/>Newton's Equations of Motion\n",
    "\n"
   ]
  },
  {
   "cell_type": "markdown",
   "metadata": {},
   "source": [
    "## What is covered?\n",
    "1. Definition of a variable in python\n",
    "2. The assignment operator\n",
    "3. Definition of a statement in python\n",
    "3. A variable's scope\n",
    "4. Kinds of number variables\n",
    "5. String variables\n",
    "6. Printing a variable's value\n",
    "7. Python Arithmetic operators"
   ]
  },
  {
   "cell_type": "markdown",
   "metadata": {},
   "source": [
    "## Equations Review\n",
    "Assuming constant acceleration   \n",
    "\n",
    "\n",
    "\\begin{equation}\n",
    "v_f = v_i + a t\n",
    "\\end{equation}\n",
    "\n",
    "\\begin{equation}\n",
    "s = v_i + \\frac{1}{2}at^2 \n",
    "\\end{equation}\n",
    "\n",
    "\\begin{equation}\n",
    "v_f^2 = v_i^2 + 2as\n",
    "\\end{equation}\n",
    "\n",
    "where:  \n",
    "$v_f$: final velocity in $m/s$  \n",
    "$v_i$: initial velocity in $m/s$  \n",
    "$a$: acceleration in $m/s^2$  \n",
    "$t$: time in seconds  \n",
    "$s$: distance in meters"
   ]
  },
  {
   "cell_type": "markdown",
   "metadata": {},
   "source": [
    "## <sup>1</sup> [Variables in Python and the Assignment Operator](https://www.tutorialspoint.com/python/python_variable_types.htm)\n",
    "Variables are nothing but reserved memory locations to store values. This means that when you create a variable you reserve some space in memory<sup>1</sup>.  \n",
    "  \n",
    "Based on the data type of a variable, the interpreter allocates memory and decides what can be stored in the reserved memory. Therefore, by assigning different data types to variables, you can store integers, decimals or characters in these variables<sup>1</sup>."
   ]
  },
  {
   "cell_type": "code",
   "execution_count": 1,
   "metadata": {
    "collapsed": true
   },
   "outputs": [],
   "source": [
    "# This code creates a variable called vi_mps and assigns it the value of 3.2\n",
    "# Assignment operator: =\n",
    "vi_mps = 3.2"
   ]
  },
  {
   "cell_type": "code",
   "execution_count": 16,
   "metadata": {},
   "outputs": [
    {
     "data": {
      "text/plain": [
       "['In',\n",
       " 'Out',\n",
       " '_',\n",
       " '_2',\n",
       " '_9',\n",
       " '__',\n",
       " '___',\n",
       " '__builtin__',\n",
       " '__builtins__',\n",
       " '__doc__',\n",
       " '__loader__',\n",
       " '__name__',\n",
       " '__package__',\n",
       " '__spec__',\n",
       " '_dh',\n",
       " '_i',\n",
       " '_i1',\n",
       " '_i10',\n",
       " '_i11',\n",
       " '_i12',\n",
       " '_i13',\n",
       " '_i14',\n",
       " '_i15',\n",
       " '_i16',\n",
       " '_i2',\n",
       " '_i3',\n",
       " '_i4',\n",
       " '_i5',\n",
       " '_i6',\n",
       " '_i7',\n",
       " '_i8',\n",
       " '_i9',\n",
       " '_ih',\n",
       " '_ii',\n",
       " '_iii',\n",
       " '_oh',\n",
       " 'a_mpss',\n",
       " 'exit',\n",
       " 'fourier_series_terms',\n",
       " 'get_ipython',\n",
       " 'quit',\n",
       " 'root_1',\n",
       " 'runner_a_mpss',\n",
       " 'runner_s_m',\n",
       " 'runner_vf_mps',\n",
       " 'runner_vi_mps',\n",
       " 's_m',\n",
       " 't_sec',\n",
       " 'vf',\n",
       " 'vf_mps',\n",
       " 'vi_mps',\n",
       " 'vi_string']"
      ]
     },
     "execution_count": 16,
     "metadata": {},
     "output_type": "execute_result"
    }
   ],
   "source": [
    "# To see what variables are in scope use the built in function dir()\n",
    "# We call the part of a program where a variable is accessible its scope\n",
    "dir()"
   ]
  },
  {
   "cell_type": "markdown",
   "metadata": {},
   "source": [
    "### What is a [Statement](https://docs.python.org/3/reference/simple_stmts.html) in python?\n",
    "A python statement is a set of logical instructions that the interpreter can read and execute. The code in the above cell is an example of an __assignment statement__, it assigns (modifies) the value of the variable `vi_mps`.  \n",
    "The other kind of statement in python is an __expression statement__ (or just expression) which can be defined as a set of logical operations on number or strings (or anything) to compute a value. "
   ]
  },
  {
   "cell_type": "code",
   "execution_count": 15,
   "metadata": {},
   "outputs": [
    {
     "name": "stdout",
     "output_type": "stream",
     "text": [
      "10\n",
      "This is the initial velocity in m/s:  10\n"
     ]
    }
   ],
   "source": [
    "# to see the variable value use print()\n",
    "print(vi_mps)\n",
    "\n",
    "# we can also use a string variable to make the print statement more friendly\n",
    "vi_string = 'This is the initial velocity in m/s: '\n",
    "print(vi_string, vi_mps)"
   ]
  },
  {
   "cell_type": "code",
   "execution_count": 14,
   "metadata": {},
   "outputs": [
    {
     "name": "stdout",
     "output_type": "stream",
     "text": [
      "the number of terms in the series is:  5\n",
      "the root is:  4.82j\n"
     ]
    }
   ],
   "source": [
    "# vi_mps is a float number, we can also define an integer or a complex number in python\n",
    "# here is an integer\n",
    "fourier_series_terms = 5\n",
    "print('the number of terms in the series is: ', fourier_series_terms)\n",
    "\n",
    "# here is a complex number\n",
    "root_1 = 4.82j\n",
    "print('the root is: ', root_1)"
   ]
  },
  {
   "cell_type": "markdown",
   "metadata": {},
   "source": [
    "## [Python Arithmetic operators](https://www.tutorialspoint.com/python/arithmetic_operators_example.htm)\n",
    "__Example 1)__ Assume a vehicle is has a constant acceleration of 2.3 $m/s^2$, calculate its final speed after 4 seconds if it starts from an initial speed of 10 $m/s^2$"
   ]
  },
  {
   "cell_type": "code",
   "execution_count": 13,
   "metadata": {},
   "outputs": [
    {
     "name": "stdout",
     "output_type": "stream",
     "text": [
      "The final velcocity of the vehicle:  19.2\n"
     ]
    }
   ],
   "source": [
    "vi_mps = 10\n",
    "a_mpss = 2.3\n",
    "t_sec = 4\n",
    "\n",
    "# addition operator: +\n",
    "# multiplication operator: *\n",
    "# the left hand side of the following assignment statement is an expression\n",
    "vf_mps = vi_mps + a_mpss * t_sec\n",
    "\n",
    "print('The final velcocity of the vehicle: ', vf_mps)"
   ]
  },
  {
   "cell_type": "markdown",
   "metadata": {},
   "source": [
    "__Example 2)__ Calculate the distance traveled by the vehicle in example (1)."
   ]
  },
  {
   "cell_type": "code",
   "execution_count": 12,
   "metadata": {},
   "outputs": [
    {
     "name": "stdout",
     "output_type": "stream",
     "text": [
      "The distance traveled by the vehicle is:  14.6332495807108\n"
     ]
    }
   ],
   "source": [
    "# exponent operator: **\n",
    "s_m = vi_mps + 0.5 * a_mpss * t_sec ** 2\n",
    "print('The distance traveled by the vehicle is: ', s_m)"
   ]
  },
  {
   "cell_type": "markdown",
   "metadata": {},
   "source": [
    "__Example 3)__ A runner travels a distance of 50 meters at an acceleration of 1 $m/s^2$ what was their initial speed if they had a speed of $12 m/s$ ?"
   ]
  },
  {
   "cell_type": "code",
   "execution_count": 11,
   "metadata": {},
   "outputs": [
    {
     "name": "stdout",
     "output_type": "stream",
     "text": [
      "The runner's intial speed is:  6.6332495807108\n"
     ]
    }
   ],
   "source": [
    "runner_a_mpss = 1\n",
    "runner_s_m = 50\n",
    "runner_vf_mps = 12\n",
    "\n",
    "# subtraction operator: -\n",
    "runner_vi_mps = (runner_vf_mps ** 2 - 2.0 * runner_a_mpss * runner_s_m) ** 0.5\n",
    "print(\"The runner's intial speed is: \", vi_mps)"
   ]
  }
 ],
 "metadata": {
  "kernelspec": {
   "display_name": "Python 3",
   "language": "python",
   "name": "python3"
  },
  "language_info": {
   "codemirror_mode": {
    "name": "ipython",
    "version": 3
   },
   "file_extension": ".py",
   "mimetype": "text/x-python",
   "name": "python",
   "nbconvert_exporter": "python",
   "pygments_lexer": "ipython3",
   "version": "3.6.2"
  }
 },
 "nbformat": 4,
 "nbformat_minor": 2
}
