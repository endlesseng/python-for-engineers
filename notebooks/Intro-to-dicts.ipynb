{
 "cells": [
  {
   "cell_type": "markdown",
   "metadata": {},
   "source": [
    "<img src=\"images/logo.png\" width=\"140\" align=\"left\">\n",
    "\n",
    "<center> <h1>Python for Engineers</h1> </center>\n",
    "<center> <h2>Introduction to the Dictionary Type</h2> </center>\n"
   ]
  },
  {
   "cell_type": "markdown",
   "metadata": {},
   "source": [
    "### Before you begin\n",
    "* The concepts presented here are related to concepts from the [Intro to Python Lists](https://youtu.be/qD1MmgPQFSs) and [Intro to Tuples](https://youtu.be/Y7jSuVb4fVs) videos on YouTube. Make sure you watch them or go through the jupyter notebooks on [Github](https://github.com/endlesseng/python-for-engineers/tree/master/notebooks). "
   ]
  },
  {
   "cell_type": "markdown",
   "metadata": {},
   "source": [
    "## What is covered?\n",
    "1. What is a dictionary in Python?\n",
    "2. Creating a dictionary\n",
    "3. Accessing and modifying dictionary items\n",
    "4. Useful dictionary operations"
   ]
  },
  {
   "cell_type": "markdown",
   "metadata": {},
   "source": [
    "## [What is a dictionary in Python](https://docs.python.org/3.8/tutorial/datastructures.html#dictionaries)\n",
    "A __dictionary__ in python is a set of key-value pairs, with the requirement that the keys are unique within one dictionary. They are created using braces `{ }` and items will be key-value paris seperaed by the `:` as follows:\n",
    "`{key_0: value_0, key_1: value_1}`\n",
    "\n",
    "Unlike __lists__ and __tuples__, which are indexed by a range of numbers, dictionaries are indexed by keys, which can be any immutable type."
   ]
  },
  {
   "cell_type": "code",
   "execution_count": null,
   "metadata": {},
   "outputs": [],
   "source": [
    "# my first dictionary\n",
    "my_first_dict = {\"foo\": 123, \"bar\": 321, 0: \"zero\"}\n",
    "\n",
    "print(f\"My first dictionary: {my_first_dict}\")"
   ]
  },
  {
   "cell_type": "markdown",
   "metadata": {},
   "source": [
    "## Creating dictionaries\n"
   ]
  },
  {
   "cell_type": "code",
   "execution_count": null,
   "metadata": {},
   "outputs": [],
   "source": [
    "# this is an empty dictionary\n",
    "empty_dict = {}\n",
    "\n",
    "print(\"an empty dictionary: \" , empty_dict)"
   ]
  },
  {
   "cell_type": "code",
   "execution_count": null,
   "metadata": {},
   "outputs": [],
   "source": [
    "# dictionary of one item\n",
    "one_item_dict = {\"one_item\": 1}\n",
    "\n",
    "print(\"dictionary with one item: \" , one_item_dict)"
   ]
  },
  {
   "cell_type": "code",
   "execution_count": null,
   "metadata": {},
   "outputs": [],
   "source": [
    "# creating a dictionary using the dict() constructor\n",
    "dict_from_list = dict([(\"my_first_key\", 1.2), (\"key_2\", 3.1), (1.2, 1.2)])\n",
    "\n",
    "print(\"dictionary from a key-value pair list: \", dict_from_list)"
   ]
  },
  {
   "cell_type": "markdown",
   "metadata": {},
   "source": [
    "<img src=\"images/key_meme.jpg\" width=\"200\" align=\"right\">\n",
    "\n",
    "### Note on keys:\n",
    "Keys have to be immutable. Tuples can be used as keys if they contain only strings, numbers, or tuples; if a tuple contains any mutable object either directly or indirectly, it cannot be used as a key. You can’t use lists as keys, since lists can be modified in place using index assignments, slice assignments, or methods like append() and extend()."
   ]
  },
  {
   "cell_type": "code",
   "execution_count": null,
   "metadata": {},
   "outputs": [],
   "source": [
    "# dictionary with tuples as keys\n",
    "\n",
    "tuple_to_num = {(1,2): 0.1, (2,2): 0.3}\n",
    "\n",
    "name_age_to_grade = {('jim', 32): 10.0, ('barbara', 29): 11.0}\n",
    "\n",
    "print(\"tuple to number: \", tuple_to_num)\n",
    "print(\"name and age to grade: \", name_age_to_grade)"
   ]
  },
  {
   "cell_type": "markdown",
   "metadata": {},
   "source": [
    "\n",
    "### Example: Robot messages. \n",
    "\n",
    "Say we have a fleet of robots, each robot wants to send a message that contains information about its status such as battery life, time since last reboot, and the last 2 seconds of speed. A dictionary can be used to package all that data nicely into one object. \n",
    "The following need to be stored \n",
    "\n",
    "1. Robot ID \n",
    "2. Battery life \n",
    "3. Time since last reboot in seconds\n",
    "4. Last 2 seconds of speed m/s"
   ]
  },
  {
   "cell_type": "code",
   "execution_count": null,
   "metadata": {},
   "outputs": [],
   "source": [
    "# robot message\n",
    "msg = {\"id\": 321,\n",
    "      \"Battery %\": 99.1,\n",
    "      \"time since last reboot (s)\": 550,\n",
    "      \"last 2 seconds of speed (m/s)\": [(0.0, 0.5), (1.0, 1.5), (2.0, 1.5)]}\n",
    "\n",
    "print(\"msg: \", msg)"
   ]
  },
  {
   "cell_type": "markdown",
   "metadata": {},
   "source": [
    "### Accessing and modifying dictionary items\n",
    "Items in a dictionary can be accessed by their keys."
   ]
  },
  {
   "cell_type": "code",
   "execution_count": null,
   "metadata": {},
   "outputs": [],
   "source": [
    "my_dict = {\"x\": 1.2, \"y\": 3.3, \"z\": 33.1}\n",
    "\n",
    "x = my_dict[\"x\"]\n",
    "y = my_dict[\"y\"]\n",
    "z = my_dict[\"z\"]\n",
    "\n",
    "print(\"x: \", x, \"\\ny: \", y, \"\\nz: \", z)"
   ]
  },
  {
   "cell_type": "code",
   "execution_count": null,
   "metadata": {},
   "outputs": [],
   "source": [
    "# modifying an item\n",
    "my_dict[\"y\"] = 4.5\n",
    "\n",
    "print(\"x: \", my_dict[\"x\"], \"\\ny: \", my_dict[\"y\"], \"\\nz: \", my_dict[\"z\"])"
   ]
  },
  {
   "cell_type": "code",
   "execution_count": null,
   "metadata": {},
   "outputs": [],
   "source": [
    "# dictionary before deleting an item\n",
    "print(\"original dictionary: \", my_dict)\n",
    "\n",
    "# deleting an item\n",
    "del my_dict[\"x\"]\n",
    "\n",
    "print(\"new dictionary: \", my_dict)"
   ]
  },
  {
   "cell_type": "code",
   "execution_count": null,
   "metadata": {},
   "outputs": [],
   "source": [
    "# adding a new item\n",
    "my_dict[\"w\"] = \"W\"\n",
    "\n",
    "print(\"dictionary with new item: \", my_dict)"
   ]
  },
  {
   "cell_type": "markdown",
   "metadata": {},
   "source": [
    "### Useful operations on dictionaries\n"
   ]
  },
  {
   "cell_type": "code",
   "execution_count": null,
   "metadata": {},
   "outputs": [],
   "source": [
    "new_dict = {\"foo\": 123, \"bar\": 321, (1,2): \"1,2\", 0: \"Zero\"} "
   ]
  },
  {
   "cell_type": "code",
   "execution_count": null,
   "metadata": {},
   "outputs": [],
   "source": [
    "# get all keys in a dictionary\n",
    "new_dict_keys = new_dict.keys()\n",
    "\n",
    "print(\"keys: \", new_dict_keys)"
   ]
  },
  {
   "cell_type": "code",
   "execution_count": null,
   "metadata": {},
   "outputs": [],
   "source": [
    "# get all items in a dictionary\n",
    "new_dict_items = new_dict.items()\n",
    "\n",
    "print(\"items: \", new_dict_items)"
   ]
  },
  {
   "cell_type": "code",
   "execution_count": null,
   "metadata": {},
   "outputs": [],
   "source": [
    "# check if a key exists in a dictionary \n",
    "(1, 2) in new_dict"
   ]
  },
  {
   "cell_type": "code",
   "execution_count": null,
   "metadata": {},
   "outputs": [],
   "source": [
    "\"hello\" in new_dict"
   ]
  },
  {
   "cell_type": "code",
   "execution_count": null,
   "metadata": {},
   "outputs": [],
   "source": [
    "# add more than one item\n",
    "new_dict.update({\"hello\": 1.5, 22: \"22\"})\n",
    "\n",
    "print(new_dict)"
   ]
  },
  {
   "cell_type": "code",
   "execution_count": null,
   "metadata": {},
   "outputs": [],
   "source": []
  }
 ],
 "metadata": {
  "kernelspec": {
   "display_name": "Python 3",
   "language": "python",
   "name": "python3"
  },
  "language_info": {
   "codemirror_mode": {
    "name": "ipython",
    "version": 3
   },
   "file_extension": ".py",
   "mimetype": "text/x-python",
   "name": "python",
   "nbconvert_exporter": "python",
   "pygments_lexer": "ipython3",
   "version": "3.7.4"
  }
 },
 "nbformat": 4,
 "nbformat_minor": 2
}
