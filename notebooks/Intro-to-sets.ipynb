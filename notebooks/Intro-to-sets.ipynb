{
 "cells": [
  {
   "cell_type": "markdown",
   "metadata": {},
   "source": [
    "<img src=\"images/logo.png\" width=\"140\" align=\"left\">\n",
    "\n",
    "<center> <h1>Python for Engineers</h1> </center>\n",
    "<center> <h2>Introduction to Python Sets</h2> </center>\n"
   ]
  },
  {
   "cell_type": "markdown",
   "metadata": {},
   "source": [
    "## What is covered?\n",
    "1. Definition of a Python set\n",
    "2. Accessing items in a set\n",
    "3. Modifying a set\n",
    "4. Useful set operations"
   ]
  },
  {
   "cell_type": "markdown",
   "metadata": {},
   "source": [
    "## [Definition of a Python set](https://docs.python.org/3.8/tutorial/datastructures.html#sets)\n",
    "A `set` is an unordered collection of items with no duplicate elements. While the set is mutable its elements need to be immutable ([hashable](https://docs.python.org/3.8/glossary.html#term-hashable)).\n",
    "Curly braces can be used to create a __non-empty__ set, and an empty one can be created using the [`set()`](https://docs.python.org/3.8/library/stdtypes.html#set) functionality"
   ]
  },
  {
   "cell_type": "code",
   "execution_count": null,
   "metadata": {
    "scrolled": true
   },
   "outputs": [],
   "source": [
    "# creating a non-empty set with curly braces\n",
    "\n",
    "my_first_set = {1, 2, 3, 5, 8}\n",
    "print('my first set: ', my_first_set)"
   ]
  },
  {
   "cell_type": "code",
   "execution_count": null,
   "metadata": {},
   "outputs": [],
   "source": [
    "# creating an empty set\n",
    "\n",
    "empty_set = set()\n",
    "print('an empty set: ', empty_set)"
   ]
  },
  {
   "cell_type": "code",
   "execution_count": null,
   "metadata": {},
   "outputs": [],
   "source": [
    "# creating a non-empty set with set()\n",
    "\n",
    "my_second_set = set([\"hello\", \"world\", \"foo\", \"bar\", \"banana\"])\n",
    "print('my second set: ', my_second_set)"
   ]
  },
  {
   "cell_type": "markdown",
   "metadata": {},
   "source": [
    "## Accessing items in a set"
   ]
  },
  {
   "cell_type": "markdown",
   "metadata": {},
   "source": [
    "Unlike [Lists](https://github.com/endlesseng/python-for-engineers/blob/master/notebooks/Intro-to-Lists.ipynb) items in a set are unordered, therefore they cannot be accessed by an index. One can however check the existence of a member in a `set` using the `in` keyword.  "
   ]
  },
  {
   "cell_type": "code",
   "execution_count": null,
   "metadata": {},
   "outputs": [],
   "source": [
    "# check if an item us a member of a set\n",
    "\n",
    "print(\"is 'banana' in my second set? \", \"banana\" in my_second_set)"
   ]
  },
  {
   "cell_type": "markdown",
   "metadata": {},
   "source": [
    "## Modifying a set"
   ]
  },
  {
   "cell_type": "markdown",
   "metadata": {},
   "source": [
    "Once a set is created the items cannot be changed, but new ones can be added or removed."
   ]
  },
  {
   "cell_type": "code",
   "execution_count": null,
   "metadata": {},
   "outputs": [],
   "source": [
    "new_set = {22.2, 3.4, 5.5, 21.2, 42.3}\n",
    "print(\"new set: \", new_set)\n",
    "\n",
    "# adding one item to a set\n",
    "new_set.add(3.2)\n",
    "print(\"new set with item added: \", new_set)"
   ]
  },
  {
   "cell_type": "code",
   "execution_count": null,
   "metadata": {},
   "outputs": [],
   "source": [
    "# adding multiple items at once \n",
    "print(\"new set: \", new_set)\n",
    "\n",
    "new_set.update([100.2, 100.3, 100.3, 1000.5])\n",
    "print(\"new set: \", new_set)"
   ]
  },
  {
   "cell_type": "code",
   "execution_count": null,
   "metadata": {},
   "outputs": [],
   "source": [
    "# remove an item\n",
    "print(\"new set: \", new_set)\n",
    "\n",
    "new_set.remove(22.2)\n",
    "print(\"new set: \", new_set)"
   ]
  },
  {
   "cell_type": "code",
   "execution_count": null,
   "metadata": {},
   "outputs": [],
   "source": [
    "# what if the item you are removing is not in the set?\n",
    "print(\"new set: \", new_set)\n",
    "\n",
    "new_set.discard(22.2) # would have caused an error with .remove\n",
    "new_set.discard(100.2)\n",
    "print(\"new set: \", new_set)"
   ]
  },
  {
   "cell_type": "code",
   "execution_count": null,
   "metadata": {},
   "outputs": [],
   "source": [
    "# clear a set\n",
    "print(\"new set: \", new_set)\n",
    "\n",
    "new_set.clear()\n",
    "print(\"new set: \", new_set)"
   ]
  },
  {
   "cell_type": "markdown",
   "metadata": {},
   "source": [
    "## Useful set operations"
   ]
  },
  {
   "cell_type": "code",
   "execution_count": null,
   "metadata": {},
   "outputs": [],
   "source": [
    "set_a = {1, 2, 4, 5, 6, 7, 8, 9}\n",
    "set_b = {2, 4, 6, 8, 10, 12, 14}"
   ]
  },
  {
   "cell_type": "code",
   "execution_count": null,
   "metadata": {},
   "outputs": [],
   "source": [
    "# difference\n",
    "print(\"numbers in set_a but not in set_b: \", set_a - set_b)\n",
    "\n",
    "# union\n",
    "print(\"numbers in set_a or set_b or both: \", set_a | set_b)\n",
    "print(\"numbers in set_a or set_b or both: \", set_a.union(set_b))\n",
    "\n",
    "# intersection\n",
    "print(\"numbers in both set_a and set_b: \", set_a & set_b)\n",
    "\n",
    "print(\"numbers in set_a or set_b but NOT both: \", set_a ^ set_b)\n"
   ]
  },
  {
   "cell_type": "code",
   "execution_count": null,
   "metadata": {},
   "outputs": [],
   "source": []
  }
 ],
 "metadata": {
  "kernelspec": {
   "display_name": "Python 3",
   "language": "python",
   "name": "python3"
  },
  "language_info": {
   "codemirror_mode": {
    "name": "ipython",
    "version": 3
   },
   "file_extension": ".py",
   "mimetype": "text/x-python",
   "name": "python",
   "nbconvert_exporter": "python",
   "pygments_lexer": "ipython3",
   "version": "3.7.4"
  }
 },
 "nbformat": 4,
 "nbformat_minor": 2
}
