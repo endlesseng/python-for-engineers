{
 "cells": [
  {
   "cell_type": "markdown",
   "metadata": {},
   "source": [
    "<img src=\"images/logo.png\" width=\"140\" align=\"left\">\n",
    "\n",
    "<center> <h1>Python for Engineers</h1> </center>\n",
    "<center> <h2>Introduction to Python Lists: Multidimentional Data</h2> </center>\n"
   ]
  },
  {
   "cell_type": "markdown",
   "metadata": {},
   "source": [
    "### Before you begin\n",
    "If you are not familiar with Python variables and operators checkout my video on [YouTube](https://youtu.be/PHQmhXCxv78) and the accompanying jupyter notebook on [Github](https://github.com/endlesseng/python-for-engineers/blob/master/notebooks/Intro-to-Variables-and-Operators.ipynb)"
   ]
  },
  {
   "cell_type": "markdown",
   "metadata": {},
   "source": [
    "## What is covered?\n",
    "1. Define a data structure\n",
    "2. The __List__ data structure in python\n",
    "3. Define a python object\n",
    "4. The meaning of a __mutuable__ object\n",
    "5. Useful __List__ functions and operations"
   ]
  },
  {
   "cell_type": "markdown",
   "metadata": {},
   "source": [
    "## <sup>1</sup>What is a [Data Structure](https://en.wikipedia.org/wiki/Data_structure)?\n",
    "A data structure is a collection of data values, the relationships among them, and the functions or operations that can be applied to the data<sup>1</sup>.  \n",
    "One of the major Python data structures is a __List__. "
   ]
  },
  {
   "cell_type": "markdown",
   "metadata": {},
   "source": [
    "## [Python Lists](https://www.techbeamers.com/python-list/)\n",
    "In Python a __List__ is a mutable sequence or ordered collection of elements. So the order in which elements appear in the list is conserved, and these items can be accessed by an index. __Lists__ are defined using square brackets __`[ ]`__. "
   ]
  },
  {
   "cell_type": "code",
   "execution_count": null,
   "metadata": {
    "scrolled": true
   },
   "outputs": [],
   "source": [
    "# this is a list with three items\n",
    "my_first_list = [2, 5, 6]\n",
    "\n",
    "print('my first list: ', my_first_list)"
   ]
  },
  {
   "cell_type": "code",
   "execution_count": null,
   "metadata": {},
   "outputs": [],
   "source": [
    "# each element in the list can be accessed with its index\n",
    "element_0 = my_first_list[0]\n",
    "element_2 = my_first_list[2]\n",
    "\n",
    "print('the first element in the list: ', element_0)\n",
    "print('the third element in the list: ', element_2)"
   ]
  },
  {
   "cell_type": "markdown",
   "metadata": {},
   "source": [
    "__Note__: The `+` operator does not add the elements of the lists together like a vector addition, it rather concatenates them. "
   ]
  },
  {
   "cell_type": "code",
   "execution_count": null,
   "metadata": {},
   "outputs": [],
   "source": [
    "# lists can have multiple types of elements\n",
    "my_second_list = [1.2, 'cow', False, 'hello', '3'] \n",
    "\n",
    "# using the + operator\n",
    "my_third_list = my_first_list + my_second_list\n",
    "print('my_first_list + my_second_list: ', my_third_list)"
   ]
  },
  {
   "cell_type": "markdown",
   "metadata": {},
   "source": [
    "### Mutable Object in Python\n",
    "An object is an instance of a type. In the statement `a = [\"apples\", \"bananas\", \"oranges\"]`, `a` is the variable that is used to allocate and point to a memeory location, `[\"apples\", \"bananas\", \"oranges\"]` is a List object that is stored in that memory location. \n",
    "<figure>\n",
    "<img src=\"images/list_a_memory.png\" width=\"500\">\n",
    "<figcaption><center>A python list object in memory, <a href=\"https://www.afternerd.com/blog/difference-between-list-tuple/\"> [source]</center></figcaption>\n",
    "</figure>\n",
    "\n",
    "A mutuable object in python is that which has values that can be changed. The statement `a[0] = \"berries\"` changes the first element of `a` from `\"apples\"` to `\"berries\"`\n",
    "<figure>\n",
    "<img src=\"images/list_a_mutable.png\" width=\"600\" >\n",
    "<figcaption><center>How a list is a mutable object in python, <a href=\"https://www.afternerd.com/blog/difference-between-list-tuple/\"> [source]</center></figcaption>\n",
    "</figure>"
   ]
  },
  {
   "cell_type": "markdown",
   "metadata": {},
   "source": [
    "__example 1)__ Use a python list to represent the gravity vector on Mars. Note, the acceleration due to gravity on mars is 3.73 $m/s^2$"
   ]
  },
  {
   "cell_type": "markdown",
   "metadata": {},
   "source": [
    "A normal paragraph.\n",
    "\n",
    "(ref:foo) A scatterplot of the data `cars` using **base** R graphics. \n",
    "\n",
    "```{r foo, fig.cap='(ref:foo)'}\n",
    "plot(cars)  # a scatterplot\n",
    "```"
   ]
  },
  {
   "cell_type": "code",
   "execution_count": null,
   "metadata": {},
   "outputs": [],
   "source": [
    "# define a coordinate frame with the x-y plane tangent to the surface\n",
    "# x: north, y:east, z: down\n",
    "# gravity on mars is 3.711 m/s^2\n",
    "\n",
    "mars_gravity_mpss = [0.0, 0.0, 0.0]\n",
    "mars_gravity_mpss[2] = 3.711\n",
    "\n",
    "print('mars gravity in the North direction: ', mars_gravity_mpss[0])\n",
    "print('mars gravity in the East direction: ', mars_gravity_mpss[1])\n",
    "print('mars gravity in the Down direction: ', mars_gravity_mpss[2])"
   ]
  },
  {
   "cell_type": "markdown",
   "metadata": {},
   "source": [
    "__example 2)__ Representing time-stamped measurements in a multidimensional array: temprature measurements. "
   ]
  },
  {
   "cell_type": "code",
   "execution_count": null,
   "metadata": {},
   "outputs": [],
   "source": [
    "# elements of a list can also be lists\n",
    "# each element in the list is a 2 element list:\n",
    "# the first element is time, the second is temprature in degrees celsius\n",
    "# time = 1556463540478 , temp = 22.2\n",
    "# time = 1556857463547 , temp = 23.2\n",
    "# time = 1556902356478 , temp = 28.99\n",
    "\n",
    "temps_c = [] # empty list\n",
    "temps_c.append([1556463540478, 22.2])\n",
    "temps_c.append([1556857463547, 23.2])\n",
    "temps_c.append([1556902356478, 28.99])\n",
    "\n",
    "print('Time stamped temprature measurements: ', temps_c)\n",
    "print('The temprature at ', temps_c[0][0], 'is: ', temps_c[0][1], ' C')\n",
    "print('The temprature at ', temps_c[1][0], 'is: ', temps_c[1][1], ' C')\n",
    "print('The temprature at ', temps_c[2][0], 'is: ', temps_c[2][1], ' C')"
   ]
  },
  {
   "cell_type": "markdown",
   "metadata": {},
   "source": [
    "### `insert()`, `remove()`, and `pop()`\n",
    "`insert(index, element)`: Allows the insertion of an `element` at given `index`.   \n",
    "  \n",
    "`remove(element)`: Removes the preovided `element`. \n",
    "  \n",
    "`pop(index)`: Returns the `element` at the provided `index`. But `index` is optional, if not passed it will return the last element."
   ]
  },
  {
   "cell_type": "code",
   "execution_count": null,
   "metadata": {},
   "outputs": [],
   "source": [
    "a_list = [1, 2, 3, 'Hello', 4.4, 5.1]\n",
    "print('a:         ', a_list)\n",
    "\n",
    "# use insert(index)\n",
    "a_list.insert(3, 'INSERT')\n",
    "print('updated a: ', a_list)"
   ]
  },
  {
   "cell_type": "code",
   "execution_count": null,
   "metadata": {},
   "outputs": [],
   "source": [
    "# using remove(index) \n",
    "a_list.remove('INSERT')\n",
    "print('a with element at index 5 removed: ', a_list)"
   ]
  },
  {
   "cell_type": "code",
   "execution_count": null,
   "metadata": {},
   "outputs": [],
   "source": [
    "# using pop(index) \n",
    "last_element = a_list.pop(-1)\n",
    "print('last element in a: ', last_element)\n",
    "print('a after running pop(): ', a_list)\n",
    "\n",
    "third_element_in_a = a_list.pop(2)\n",
    "print('third element in a: ', third_element_in_a)\n",
    "print('a after running pop(2): ', a_list)"
   ]
  },
  {
   "cell_type": "markdown",
   "metadata": {},
   "source": [
    "### Slicing a Python List\n",
    "Python has a slicing operator that allows for accesing a chunck of elements in a List.  \n",
    "  \n",
    "#### Slicing operator syntax\n",
    "`[start(optional):stop(optional):step(optional)]`  \n",
    "`start`: the fist index of the slice  \n",
    "`stop`: the last index of the slice  \n",
    "`step`: how how many elements to step over  "
   ]
  },
  {
   "cell_type": "code",
   "execution_count": null,
   "metadata": {},
   "outputs": [],
   "source": [
    "# slicing\n",
    "the_list = [0, 1, 7, 4, 32, 47, 89, 6]\n",
    "print('the slice between 3 and 6', the_list[3:6])\n",
    "print('the slice between 0 and 6 with a step of 2', the_list[0:6:2])\n",
    "print('the slice between 4 until the end', the_list[4:])\n",
    "print('the slice between 4 until the element before the last', the_list[4:-1])\n",
    "print('the slice between 4 until the element before the last', the_list[4:-2])\n",
    "print('the slice from the start until the 5', the_list[:5])\n",
    "print('the slice of every other element', the_list[::2])"
   ]
  },
  {
   "cell_type": "code",
   "execution_count": null,
   "metadata": {},
   "outputs": [],
   "source": []
  }
 ],
 "metadata": {
  "kernelspec": {
   "display_name": "Python 3",
   "language": "python",
   "name": "python3"
  },
  "language_info": {
   "codemirror_mode": {
    "name": "ipython",
    "version": 3
   },
   "file_extension": ".py",
   "mimetype": "text/x-python",
   "name": "python",
   "nbconvert_exporter": "python",
   "pygments_lexer": "ipython3",
   "version": "3.7.4"
  }
 },
 "nbformat": 4,
 "nbformat_minor": 2
}
